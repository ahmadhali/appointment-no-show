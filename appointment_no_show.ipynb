{
  "cells": [
    {
      "metadata": {
        "_uuid": "23c7a0307caad66dd1badb3f25243992267806a8"
      },
      "cell_type": "markdown",
      "source": "# No-Show Appointments"
    },
    {
      "metadata": {
        "_uuid": "7e0ae7e5d95441cf6ff6130f04feadd38cab1b9a"
      },
      "cell_type": "markdown",
      "source": "## 1. Introduction\n\n### 1.1 About the Data\nThis dataset collects information from 100k medical appointments in public hospitals in Vitoria, Brazil. The objective of this analysis is to investigate what characteristics make the patients more likely to miss their appointments. This dataset was taken from [Kaggle](https://www.kaggle.com/joniarroba/noshowappointments).\n\n### 1.2 Questions\nThe questions below will be answered in this analysis.\n- What factors are important in order to predict if a patient will show up for their scheduled appointment?\n- Do different age groups miss their appointments more frequently than others?\n- Does the size of the hospital have an effect on the no-show rate?"
    },
    {
      "metadata": {
        "_uuid": "54c796e313d3404bc89d3ec11da0c5729391dbfe"
      },
      "cell_type": "markdown",
      "source": "## 2. Data Wrangling\n### 2.1 Importing necessary packages"
    },
    {
      "metadata": {
        "trusted": true,
        "_uuid": "170c85fef8645a8f4a84777426a95cc509b50477"
      },
      "cell_type": "code",
      "source": "import pandas as pd\nimport numpy as np\nimport matplotlib.pyplot as plt\nfrom datetime import date\nimport calendar\n\n%matplotlib inline",
      "execution_count": null,
      "outputs": []
    },
    {
      "metadata": {
        "_uuid": "a84b932877b4067e66567771875c4d1afc05b052"
      },
      "cell_type": "markdown",
      "source": "### 2.2 Data Gathering\n\nImporting data as a dataframe using pandas `read_csv`"
    },
    {
      "metadata": {
        "trusted": true,
        "_uuid": "a790efe877c6c691a3e9ccf326ca61ccffeec538"
      },
      "cell_type": "code",
      "source": "df = pd.read_csv('../input/KaggleV2-May-2016.csv')",
      "execution_count": null,
      "outputs": []
    },
    {
      "metadata": {
        "_uuid": "e6231fd59f49ebd018ed52eaeb0951e6a8d3b002"
      },
      "cell_type": "markdown",
      "source": "### 2.3 Data Assessment\n\nHere the data is explored to find the structure and check for missing values."
    },
    {
      "metadata": {
        "trusted": true,
        "_uuid": "9424026b2717c1f47600ebaf6b6c3408afe7b07b"
      },
      "cell_type": "code",
      "source": "df.head()",
      "execution_count": null,
      "outputs": []
    },
    {
      "metadata": {
        "trusted": true,
        "_uuid": "bb110b096e8c7a949dc639251157725ebdfd4079"
      },
      "cell_type": "code",
      "source": "df.info()",
      "execution_count": null,
      "outputs": []
    },
    {
      "metadata": {
        "_uuid": "3bad4d3f9ac02e979d77f403f7aa5bbc9c3d9146"
      },
      "cell_type": "markdown",
      "source": "No values are missing, although the some column headers contain typos and don't follow naming conventions. Also some columns contain the wrong datatypes."
    },
    {
      "metadata": {
        "_uuid": "78e97e4002f2102d089105270872a7b3df0194ca"
      },
      "cell_type": "markdown",
      "source": "### 2.4 Data Cleaning\n\nThe columns are renamed for better readability and to correct typos."
    },
    {
      "metadata": {
        "trusted": true,
        "_uuid": "489632d384c7eebccfd257399f0d19cc202fe6d1"
      },
      "cell_type": "code",
      "source": "df.rename(columns=lambda x: x.lower(), inplace=True)",
      "execution_count": null,
      "outputs": []
    },
    {
      "metadata": {
        "trusted": true,
        "_uuid": "e8b39ea254bfdb9e389246ac46746c034035af02"
      },
      "cell_type": "code",
      "source": "df.rename(columns={'patientid':'patient_id', 'appointmentid':'appointment_id', \n                   'scheduledday':'scheduled_day', 'appointmentday':'appointment_day',\n                   'neighbourhood':'neighborhood', 'scholarship':'bolsa_familia',\n                   'hipertension':'hypertension', 'handcap':'handicap',\n                   'no-show':'no_show'}, inplace=True)",
      "execution_count": null,
      "outputs": []
    },
    {
      "metadata": {
        "_uuid": "7ff966fe66f8aa9d7634b507ee0b8c25a84b9547"
      },
      "cell_type": "markdown",
      "source": "The `scholarship` column was changed to `bolsa_familia` to avoid any confusion to what this column represents."
    },
    {
      "metadata": {
        "_uuid": "63674dd01ca58b37ed3b6170c5af2bcfec78e498"
      },
      "cell_type": "markdown",
      "source": "Next the unique values for every column are printed to check for wrong data and outliers."
    },
    {
      "metadata": {
        "scrolled": true,
        "trusted": true,
        "_uuid": "09958f299aca3a5023bb2f18266cfe33e0202450"
      },
      "cell_type": "code",
      "source": "print('Gender:',df.gender.unique())\nprint('Age:',sorted(df.age.unique()))\nprint('Neighborhood:',df.neighborhood.unique())\nprint('Bolsa Familia:',df.bolsa_familia.unique())\nprint('Hypertension:',df.hypertension.unique())\nprint('Diabetes:',df.diabetes.unique())\nprint('Alcoholism:',df.alcoholism.unique())\nprint('Handicap:',df.handicap.unique())\nprint('SMS Received:',df.sms_received.unique())\nprint('No-show:',df.no_show.unique())",
      "execution_count": null,
      "outputs": []
    },
    {
      "metadata": {
        "_uuid": "141a4047770d484415c2d062fdd68ad419270354"
      },
      "cell_type": "markdown",
      "source": "The age column seems to have some entries with negative age and some entries with age over 100 years. Entries with these ages will be treated as outliers and will be removed from the data."
    },
    {
      "metadata": {
        "trusted": true,
        "_uuid": "d1b0a7f4f7f9ba535f927584296cee2780848390"
      },
      "cell_type": "code",
      "source": "df = df[(df.age >= 0) & (df.age <= 100)]",
      "execution_count": null,
      "outputs": []
    },
    {
      "metadata": {
        "_uuid": "3f150aab8566a86b2f24597c02f1fa6bc6d09bbe"
      },
      "cell_type": "markdown",
      "source": "The `scheduled_day` and `appointment_day` columns are not useful as they are, however we can extract from them the day of the week of the appointment and the waiting time between the scheduled day and the appointment day. To do this, both columns types need to be changed to datetime.\n\n*It would have been useful to extract the time of the appointment, however the actual appointment hour was not included in the data."
    },
    {
      "metadata": {
        "trusted": true,
        "_uuid": "f1a7f3ca22ad545462a6cd6c4785cb3db4bc3503"
      },
      "cell_type": "code",
      "source": "df['scheduled_day'] = pd.to_datetime(df['scheduled_day'])\ndf['appointment_day'] = pd.to_datetime(df['appointment_day'])",
      "execution_count": null,
      "outputs": []
    },
    {
      "metadata": {
        "_uuid": "edfce1f49760efb86ae7193a9ee5d0595e7cc894"
      },
      "cell_type": "markdown",
      "source": "Change the Yes / No values in `no_show` to 'no_show' and 'show' to avoid confusing the meaning of Yes and No in this case."
    },
    {
      "metadata": {
        "trusted": true,
        "_uuid": "a69e8b318d63feb524e5be643e6c0492a6a31554"
      },
      "cell_type": "code",
      "source": "df.no_show.replace(to_replace=dict(Yes='no_show', No='show'), inplace=True)",
      "execution_count": null,
      "outputs": []
    },
    {
      "metadata": {
        "_uuid": "07fe1d770fa330671ae469afa9eb95f279b43432"
      },
      "cell_type": "markdown",
      "source": "Create a new column called `waiting_days` that indicates how many days passed between scheduling the appointment and the appointment itself. Any row that shows a negative value, which occurs since the `appointment_day` column doesn't indicate the time of the appointment, had its value changed to 0."
    },
    {
      "metadata": {
        "trusted": true,
        "_uuid": "fd40106767fe5f42ce09b7807aabb144f51c11f6"
      },
      "cell_type": "code",
      "source": "df['waiting_days'] = df['appointment_day'] - df['scheduled_day']",
      "execution_count": null,
      "outputs": []
    },
    {
      "metadata": {
        "trusted": true,
        "_uuid": "bc02a6b7ed63cb0124f5c00a007ae6638da72966"
      },
      "cell_type": "code",
      "source": "df['waiting_days'] = df['waiting_days'].astype('timedelta64[D]')",
      "execution_count": null,
      "outputs": []
    },
    {
      "metadata": {
        "trusted": true,
        "_uuid": "eb8d8bf27559dadd9e1cc232c985688f37b0d715"
      },
      "cell_type": "code",
      "source": "df['waiting_days'] = np.where(df['waiting_days'] < 0, 0, df['waiting_days'])",
      "execution_count": null,
      "outputs": []
    },
    {
      "metadata": {
        "_uuid": "010d7aa3153edaa15bf48593ba21cdafb5f90bf5"
      },
      "cell_type": "markdown",
      "source": "Two new columns `appointment_weekday` and `scheduled_weekday` are created to indicate the weekday of the appointment and of when the appointment was scheduled."
    },
    {
      "metadata": {
        "trusted": true,
        "_uuid": "36f4fa5bdd17da06c31a99cb3c0f36b1a3b783c3"
      },
      "cell_type": "code",
      "source": "df['appointment_weekday'] = df['appointment_day'].dt.weekday_name",
      "execution_count": null,
      "outputs": []
    },
    {
      "metadata": {
        "trusted": true,
        "_uuid": "d08e45286e7f947bccdfc0f6bd18bc71d8b4c7c0"
      },
      "cell_type": "code",
      "source": "df['scheduled_weekday'] = df['scheduled_day'].dt.weekday_name",
      "execution_count": null,
      "outputs": []
    },
    {
      "metadata": {
        "_uuid": "7a3fb0b6e5448ce8d20e94b0d22afe60f52eabd6"
      },
      "cell_type": "markdown",
      "source": "## 3. Data Exploration"
    },
    {
      "metadata": {
        "trusted": true,
        "_uuid": "1a49aaed5f1a38b2b99973b700787203bf5e751a"
      },
      "cell_type": "code",
      "source": "df.head()",
      "execution_count": null,
      "outputs": []
    },
    {
      "metadata": {
        "_uuid": "ca81d7798270e2735fefdb914d6cf5a9dce0161e"
      },
      "cell_type": "markdown",
      "source": "### 3.1 Mean No-show\n\nTo begin the exploration, the mean no-show rate is calculated."
    },
    {
      "metadata": {
        "trusted": true,
        "_uuid": "3ca96c86d621b4437b148a6c605fd4ca4704d802"
      },
      "cell_type": "code",
      "source": "mean_no_show = df['no_show'].value_counts()[1] / len(df['no_show'])\n\nmean_no_show\n",
      "execution_count": null,
      "outputs": []
    },
    {
      "metadata": {
        "_uuid": "3ab8e5ca533461e96235d38e9379f79db800bf59"
      },
      "cell_type": "markdown",
      "source": "The mean no-show rate for this population is 20%.\n\n### 3.2 Weekday Analysis\n\nFirst the no-show rates are calculated for the appointment weekday and the scheduled weekday, then these rates are plotted for easier visualization.\n\n#### 3.2.1 Appointment Weekday"
    },
    {
      "metadata": {
        "trusted": true,
        "_uuid": "c49e13646f8da86f5d7d786a2652aa092c2894d4"
      },
      "cell_type": "code",
      "source": "def groupby_rate(column):\n    #Return a series with the no-show rates for a specific characteristic (column).\n    \n    func_count = df.groupby(['no_show', column]).count()['patient_id']\n    func_rate = func_count['no_show'] / (func_count['no_show'] + func_count['show'])\n    return func_rate",
      "execution_count": null,
      "outputs": []
    },
    {
      "metadata": {
        "trusted": true,
        "_uuid": "862b657df4dd3a50ca6032c8fbce1c9cd25fd4cc"
      },
      "cell_type": "code",
      "source": "sort = ['Monday', 'Tuesday', 'Wednesday', 'Thursday', 'Friday', 'Saturday']\n\napt_weekdays_rate = groupby_rate('appointment_weekday').reindex(sort, copy=False);",
      "execution_count": null,
      "outputs": []
    },
    {
      "metadata": {
        "scrolled": false,
        "trusted": true,
        "_uuid": "d7e0035b1e286a0f20cb78c32708824c297b1adc"
      },
      "cell_type": "code",
      "source": "ind = np.arange(len(apt_weekdays_rate))\nwidth = 0.35\nplt.bar(ind, apt_weekdays_rate, width, color='r', alpha=.7, label='No-Show')\nlocation = ind\nplt.ylabel('No-show Rate')\nplt.xlabel('Weekday')\nplt.title('No-show Rate by Appointment Weekday')\nlabels = sort\nplt.xticks(location, labels)\nplt.yticks(np.arange(0, 0.4, step=0.05))\nplt.legend();\nprint(apt_weekdays_rate)",
      "execution_count": null,
      "outputs": []
    },
    {
      "metadata": {
        "_uuid": "cfe0fc5d057216209b003bfa9d6e188881135aa3"
      },
      "cell_type": "markdown",
      "source": "The bar plot above shows that the no-show rate doesn't vary much depending on the weekday of the appointment, excluding Saturday. However there's a higher chance of a no-show for the appointments in the last two days of the week, with the highest no-show rates happening on Saturday and the lowest on Thursday. \n\n#### 3.2.2 Scheduled Weekday"
    },
    {
      "metadata": {
        "trusted": true,
        "_uuid": "720814592a21bc2820044d952a1e29999ea81518"
      },
      "cell_type": "code",
      "source": "sch_weekdays_rate = groupby_rate('scheduled_weekday').reindex(sort, copy=False);",
      "execution_count": null,
      "outputs": []
    },
    {
      "metadata": {
        "trusted": true,
        "_uuid": "3def034719f7f3cb21422b3a59451a92d78a52e5"
      },
      "cell_type": "code",
      "source": "ind = np.arange(len(sch_weekdays_rate))\nwidth = 0.35\nplt.bar(ind, sch_weekdays_rate, width, color='r', alpha=.7, label='No-Show')\nlocation = ind\nplt.ylabel('No-show Rate')\nplt.xlabel('Weekday')\nplt.title('No-show Rate by Scheduled Weekday')\nlabels = sort\nplt.xticks(location, labels)\nplt.yticks(np.arange(0, 0.4, step=0.05))\nplt.legend();\nprint(sch_weekdays_rate)",
      "execution_count": null,
      "outputs": []
    },
    {
      "metadata": {
        "_uuid": "4f5b5ed51308bce626ad6149cddf0a5c6ca0df65"
      },
      "cell_type": "markdown",
      "source": "The bar plot above shows that the no-show rate for all scheduled weekdays except Saturday has little variation. Except for the appointments scheduled on Saturdays, which have a no-show rate of 4.17%, all appointments scheduled on other weekdays have a 20% no-show rate.\n\n#### 3.2.3 Weekday Conclusion\n\nWhile the Saturday appointments have slightly higher no-show rates than other weekdays, the appointments scheduled on Saturdays have much lower no-show rates than ones scheduled on other weekdays. A possible explanation for this is that people would rather not go to the doctor on the weekend. However if they do go during the weekend to schedule an appointment, then they will probably show up since it's likely to be urgent.\n\n### 3.3 Patient Characteristic Analysis\n\nIn this part the no-show rates will be calculated for each patient characteristic (column)."
    },
    {
      "metadata": {
        "trusted": true,
        "_uuid": "80fb09f87683d670b9e21712b937fc36ee3820d7"
      },
      "cell_type": "code",
      "source": "gender_rate = groupby_rate('gender')\nbolsa_rate = groupby_rate('bolsa_familia')\nhypertension_rate = groupby_rate('hypertension')\ndiabetes_rate = groupby_rate('diabetes')\nalcoholism_rate = groupby_rate('alcoholism')\nhandicap_rate = groupby_rate('handicap')",
      "execution_count": null,
      "outputs": []
    },
    {
      "metadata": {
        "_uuid": "4841754327ff56da4ec57693c2e272a0950dac81"
      },
      "cell_type": "markdown",
      "source": "#### 3.3.1 Gender"
    },
    {
      "metadata": {
        "trusted": true,
        "_uuid": "5c8b5dea71255d9cba2e3d3d3ceaa1f5f71ada05"
      },
      "cell_type": "code",
      "source": "ind = np.arange(len(gender_rate))\nwidth = 0.35\nplt.bar(ind, gender_rate, width, color='r', alpha=.7, label='No-Show')\nlocation = ind\nplt.ylabel('No-show Rate')\nplt.xlabel('Gender')\nplt.title('No-show Rate by Gender')\nplt.xticks(location)\nplt.yticks(np.arange(0, 0.4, step=0.05))\nplt.legend();\nprint(gender_rate)",
      "execution_count": null,
      "outputs": []
    },
    {
      "metadata": {
        "_uuid": "fff5b2a8a3aca37df1e58cf0ea909c72bfe0925a"
      },
      "cell_type": "markdown",
      "source": "The plot above indicates that gender doesn't have much effect on the no-show rate.\n\n#### 3.3.2 Bolsa-Familia"
    },
    {
      "metadata": {
        "trusted": true,
        "_uuid": "649168f467dc8b9b9b7f351545a85ab5581a84a0"
      },
      "cell_type": "code",
      "source": "ind = np.arange(len(bolsa_rate))\nwidth = 0.35\nplt.bar(ind, bolsa_rate, width, color='r', alpha=.7, label='No-Show')\nlocation = ind\nplt.ylabel('No-show Rate')\nplt.xlabel('Bolsa-Familia')\nplt.title('No-show Rate by Bolsa-Familia recievers')\nplt.xticks(location)\nplt.yticks(np.arange(0, 0.4, step=0.05))\nplt.legend();\nprint(bolsa_rate)",
      "execution_count": null,
      "outputs": []
    },
    {
      "metadata": {
        "_uuid": "e60b4aa93a35924d6a5fc96af289ce4e2ce12921"
      },
      "cell_type": "markdown",
      "source": "The plot above indicates that people who receive Bolsa-Familia are more likely not to show up for their appointments.\n\n#### 3.3.3 Hypertension"
    },
    {
      "metadata": {
        "trusted": true,
        "_uuid": "6525df5d51743b0df3498978d10eca8399bda597"
      },
      "cell_type": "code",
      "source": "ind = np.arange(len(hypertension_rate))\nwidth = 0.35\nplt.bar(ind, hypertension_rate, width, color='r', alpha=.7, label='No-Show')\nlocation = ind\nplt.ylabel('No-show Rate')\nplt.xlabel('Hypertension')\nplt.title('No-show Rate by Hypertension')\nplt.xticks(location)\nplt.yticks(np.arange(0, 0.4, step=0.05))\nplt.legend();\nprint(hypertension_rate)",
      "execution_count": null,
      "outputs": []
    },
    {
      "metadata": {
        "_uuid": "5daf95b65ffd97f69349349102737e83c1197e80"
      },
      "cell_type": "markdown",
      "source": "People with hypertension are less likely not to show for their appointments. A probable cause for this is that they need to follow-up with their treatment in order to receive the hypertension medicine they need.\n\n#### 3.3.4 Diabetes"
    },
    {
      "metadata": {
        "trusted": true,
        "_uuid": "2e62a945932ce4c6d95ed1620fd082858fba1286"
      },
      "cell_type": "code",
      "source": "ind = np.arange(len(diabetes_rate))\nwidth = 0.35\nplt.bar(ind, diabetes_rate, width, color='r', alpha=.7, label='No-Show')\nlocation = ind\nplt.ylabel('No-show Rate')\nplt.xlabel('Diabetes')\nplt.title('No-show Rate by Diabetes')\nplt.xticks(location)\nplt.yticks(np.arange(0, 0.4, step=0.05))\nplt.legend();\nprint(diabetes_rate)",
      "execution_count": null,
      "outputs": []
    },
    {
      "metadata": {
        "_uuid": "1133975bf9153aa56659bca429ebf837b9b94e73"
      },
      "cell_type": "markdown",
      "source": "People with diabetes are less likely not to show for their appointments. Similarly to hypertension, a probable cause for this is that they need to follow-up in order to receive the medicine they need.\n\n#### 3.3.5 Alcoholism"
    },
    {
      "metadata": {
        "trusted": true,
        "_uuid": "5c5b102a7905e98cc665f2271ddc8494dfa058a7"
      },
      "cell_type": "code",
      "source": "ind = np.arange(len(alcoholism_rate))\nwidth = 0.35\nplt.bar(ind, alcoholism_rate, width, color='r', alpha=.7, label='No-Show')\nlocation = ind\nplt.ylabel('No-show Rate')\nplt.xlabel('Alcoholism')\nplt.title('No-show Rate by Alcoholism')\nplt.xticks(location)\nplt.yticks(np.arange(0, 0.4, step=0.05))\nplt.legend();\nprint(alcoholism_rate)",
      "execution_count": null,
      "outputs": []
    },
    {
      "metadata": {
        "_uuid": "dd0c9c7108842cfb58f4eec50592748f38ca33a7"
      },
      "cell_type": "markdown",
      "source": "The plot above indicates that alcoholism doesn't have much effect on the no-show rate.\n\n#### 3.3.6 Handicap"
    },
    {
      "metadata": {
        "scrolled": false,
        "trusted": true,
        "_uuid": "a2ff83440ec526ab83fe22a557609c059df43a62"
      },
      "cell_type": "code",
      "source": "ind = np.arange(len(handicap_rate))\nwidth = 0.35\nplt.bar(ind, handicap_rate, width, color='r', alpha=.7, label='No-Show')\nlocation = ind\nplt.ylabel('No-show Rate')\nplt.xlabel('Handicap')\nplt.title('No-show Rate by Handicaps')\nplt.xticks(location)\nplt.yticks(np.arange(0, 0.4, step=0.05))\nplt.legend()\nprint(handicap_rate)",
      "execution_count": null,
      "outputs": []
    },
    {
      "metadata": {
        "_uuid": "4849986929eaa7d8119e1052d67674ebd77a3d26"
      },
      "cell_type": "markdown",
      "source": "The plot above People with no handicaps have the same no-show rate as the populations mean.\n\nPatients with one handicap have a lower no-show rate than the mean. When the number of handicaps grow, the no-show rate grows too.\n\n#### 3.3.7 Age"
    },
    {
      "metadata": {
        "trusted": true,
        "_uuid": "f6b94d7de3fbd7662a7dfd687d5578d16b23ee87"
      },
      "cell_type": "code",
      "source": "bins = [0, 18, 34, 50, 70, 100]\n\nage_group = df.groupby(['no_show', pd.cut(df['age'], bins)]).size().unstack().transpose()\n\nage_group_rate = age_group['no_show'] / (age_group['no_show'] + age_group['show'])",
      "execution_count": null,
      "outputs": []
    },
    {
      "metadata": {
        "trusted": true,
        "_uuid": "a3fee86be7136b493b9324c666d72498adf133b2"
      },
      "cell_type": "code",
      "source": "ind = np.arange(len(age_group_rate))\nwidth = 0.35\nplt.bar(ind, age_group_rate, width, color='r', alpha=.7, label='No-Show')\nlocation = ind\nplt.ylabel('No-show Rate')\nplt.xlabel('Age Group')\nplt.title('No-show Rate by Age Group')\nlabels = ['0-18', '19-34', '35-50', '51-70', '71-100']\nplt.xticks(location, labels)\nplt.yticks(np.arange(0, 0.4, step=0.05))\nplt.legend();\nprint(age_group_rate)",
      "execution_count": null,
      "outputs": []
    },
    {
      "metadata": {
        "_uuid": "87ea8e134e924c2943fcf78fcc6ea23dbdcaa9d8"
      },
      "cell_type": "markdown",
      "source": "The bar plot above shows that patients younger than 34 years are more likely to miss their appointment. Patients between the ages of 35 and 50 have the same no-show rate as the population mean and patients older than 51 years are less likely to miss their appointments.\n\n### 3.4 Neighborhood Analysis\n\nIn this part the no-show rate and size (count) of each neighborhood will be compared and plotted. Since the size of the hospitals is not defined in the data, the relative size of each hospital will be inferred from the number of appointments that each hospital had."
    },
    {
      "metadata": {
        "trusted": true,
        "_uuid": "4a11f869021e58ded3f27094bccbd408211e49a3"
      },
      "cell_type": "code",
      "source": "neighborhood_rate = groupby_rate('neighborhood')\nneighborhood_count = df['neighborhood'].value_counts()\nneighborhood_cmb = pd.concat([neighborhood_rate, neighborhood_count], axis=1, sort=False)\n\nneighborhood_cmb.rename(columns={'patient_id':'no_show_rate', 'neighborhood':'size'}, inplace=True)",
      "execution_count": null,
      "outputs": []
    },
    {
      "metadata": {
        "trusted": true,
        "_uuid": "70ebc66083484d7294e0c16cdc95fad7a535288f"
      },
      "cell_type": "code",
      "source": "plt.scatter(neighborhood_cmb['size'], neighborhood_cmb['no_show_rate'], c='r', alpha=0.7)\nplt.ylabel('No-show Rate')\nplt.xlabel('Neighborhood Size')\nplt.title('No-show Rate by Neighborhood Size');",
      "execution_count": null,
      "outputs": []
    },
    {
      "metadata": {
        "_uuid": "a6a505da28b87df69d9a639c5458e4bc0fa1af1d"
      },
      "cell_type": "markdown",
      "source": "The scatter plot above doesn't show a relation between neighborhood size and no-show rate.\n\n## 4. Conclusion\n\n### 4.1 Results\n\n- The analysis indicates that there's a 20% chance a patient will not show up to their appointment. There are also some characteristics that increase or lower this chance.\n\n- Patients with diabetes and hypertension are less likely to miss their appointment, while patients who receive Bolsa-Familia are more likely to miss it. Patients are also slightly more likely to miss an appointment on Friday and Saturday, while appointments scheduled on Saturdays are not likely to be missed.\n\n- Patients younger than 34 years are more likely to miss their appointment, patients between the ages of 35 and 50 have the same no-show rate as the population mean and patients older than 51 years are less likely to miss their appointments.\n\n- The size of the hospital doesn't seem to have an effect on the no-show rate.\n\n### 4.2 Limitations\n\n- All variables, except age, are categorical. This mean that strong correlations cannot be provided using statistical methods.\n- The correlations drawn in this analysis were based on the data however, as the saying goes, correlation does not imply causation. In other words, even though the data shows a relation between some characteristic and the no-show rate, it doesn't necessarily mean that this characteristic is causing this.\n- Many appointments were scheduled on the same day that they happened. This might mean that the hospital attended a patient that didn't have an appointment and then simply entered this appointment in the schedule. If this is the case, the data might be skewed and the no-show rate is actually higher than it appears.\n"
    },
    {
      "metadata": {
        "trusted": true,
        "_uuid": "42f7ed9a2bd5d205d9758ba937f327dffac347c8"
      },
      "cell_type": "code",
      "source": "",
      "execution_count": null,
      "outputs": []
    }
  ],
  "metadata": {
    "kernelspec": {
      "display_name": "Python 3",
      "language": "python",
      "name": "python3"
    },
    "language_info": {
      "codemirror_mode": {
        "name": "ipython",
        "version": 3
      },
      "file_extension": ".py",
      "mimetype": "text/x-python",
      "name": "python",
      "nbconvert_exporter": "python",
      "pygments_lexer": "ipython3",
      "version": "3.7.1"
    }
  },
  "nbformat": 4,
  "nbformat_minor": 1
}